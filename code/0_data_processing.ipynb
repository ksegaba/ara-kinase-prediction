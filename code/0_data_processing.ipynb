{
 "cells": [
  {
   "cell_type": "markdown",
   "metadata": {},
   "source": []
  },
  {
   "cell_type": "markdown",
   "metadata": {},
   "source": []
  },
  {
   "cell_type": "code",
   "execution_count": null,
   "metadata": {},
   "outputs": [],
   "source": [
    "import pandas as pd\n",
    "\n",
    "# Melissa's data\n",
    "ara_m = pd.read_csv(\"../data/20240725_melissa_ara_data/interactions_fitness.txt\", sep=\"\\t\")\n",
    "\n",
    "# 2021 Cusack data\n",
    "dat_2 = pd.read_csv(\"../data/2021_cusack_data/Dataset_2.txt\", sep=\"\\t\") # inclusive genetic redundancy gene pairs\n",
    "dat_4 = pd.read_csv(\"../data/2021_cusack_data/Dataset_4.txt\", sep=\"\\t\") # protein kinase family gene pairs\n",
    "features = pd.read_excel(\"../data/2021_cusack_data/Supplemental_tables_revision.xlsx\",\n",
    "                         sheet_name=\"Supplemental table 10\", header=0)\n",
    "\n",
    "print(ara_m.shape, dat_2.shape, dat_4.shape)"
   ]
  },
  {
   "cell_type": "code",
   "execution_count": null,
   "metadata": {},
   "outputs": [],
   "source": [
    "ara_m.head()"
   ]
  },
  {
   "cell_type": "code",
   "execution_count": null,
   "metadata": {},
   "outputs": [],
   "source": [
    "dat_2.head()"
   ]
  },
  {
   "cell_type": "code",
   "execution_count": null,
   "metadata": {},
   "outputs": [],
   "source": [
    "dat_4.head()"
   ]
  },
  {
   "cell_type": "markdown",
   "metadata": {},
   "source": [
    "Check to see if Melissa's gene pairs have feature information in the 2021 Cusack data"
   ]
  },
  {
   "cell_type": "code",
   "execution_count": null,
   "metadata": {},
   "outputs": [],
   "source": [
    "# split gene pair identifiers into two columns\n",
    "dat_2_genes = dat_2.pair_ID.str.split('_', expand=True)\n",
    "dat_4_genes = dat_4.pair_ID.str.split('_', expand=True)\n",
    "\n",
    "# get gene pairs with feature information in dat_2 and dat_4\n",
    "ara_m['MA'] = ara_m['MA'].str.upper() # convert gene names to uppercase\n",
    "ara_m['MB'] = ara_m['MB'].str.upper()\n",
    "\n",
    "ara_m_dat_2 = ara_m.loc[(ara_m.MA.isin(dat_2_genes[0]) | ara_m.MA.isin(dat_2_genes[1])) & \\\n",
    "    (ara_m.MB.isin(dat_2_genes[0]) | ara_m.MB.isin(dat_2_genes[1]))]\n",
    "\n",
    "ara_m_dat_4 = ara_m.loc[(ara_m.MA.isin(dat_4_genes[0]) | ara_m.MA.isin(dat_4_genes[1])) & \\\n",
    "    (ara_m.MB.isin(dat_4_genes[0]) | ara_m.MB.isin(dat_4_genes[1]))]\n",
    "\n",
    "ara_m_features = pd.concat([ara_m_dat_2, ara_m_dat_4], axis=0).drop_duplicates()\n",
    "ara_m_features.to_csv(\"../data/20240725_melissa_ara_data/interactions_fitness_gene_pairs_in_2021_cusack.txt\",\n",
    "                      sep=\"\\t\", index=False)\n",
    "\n",
    "ara_m.loc[~ara_m.index.isin(ara_m_features.index)].to_csv(\n",
    "    \"../data/20240725_melissa_ara_data/interactions_fitness_gene_pairs_NOT_in_2021_cusack.txt\",\n",
    "    sep=\"\\t\", index=False)\n",
    "\n",
    "print(ara_m_features.shape)"
   ]
  }
 ],
 "metadata": {
  "language_info": {
   "name": "python"
  }
 },
 "nbformat": 4,
 "nbformat_minor": 2
}
