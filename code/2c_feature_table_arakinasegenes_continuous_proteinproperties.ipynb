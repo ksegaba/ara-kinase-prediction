{
 "cells": [
  {
   "cell_type": "markdown",
   "metadata": {},
   "source": [
    "This code is for continuous data processing of specific protein properties data.\n",
    "The protein properties with continuous data processing documents are: \n",
    "- aaLength.continuous.MLD_dictionary.json\n",
    "- isoelectric_point_dictionary.json"
   ]
  },
  {
   "cell_type": "code",
   "execution_count": 1,
   "metadata": {},
   "outputs": [],
   "source": [
    "import pandas as pd\n",
    "import numpy as np\n",
    "import os\n",
    "import json"
   ]
  },
  {
   "cell_type": "code",
   "execution_count": 2,
   "metadata": {},
   "outputs": [],
   "source": [
    "def generate_feature_cols(data_type, data, idx, gene_calcs_type, transformation_type):\n",
    "    \"\"\"\n",
    "    Generate feature columns for continuous data processing.\n",
    "    \n",
    "    Parameters\n",
    "    ----------\n",
    "    data_type : list\n",
    "        List of data types. Protein properties: code addresses continuous data\n",
    "    data : list\n",
    "        List of data. Protein properties: code addresses AA length and pI data\n",
    "    idx : int\n",
    "        Index of data. Protein properties: index \n",
    "    gene_calcs_type : list\n",
    "        List of gene pair calculations to be applied to the data\n",
    "    transformation_type : list\n",
    "        List of transformations to be applied to the data gene pair calculations\n",
    "        TF = transformation\n",
    "    \n",
    "    Returns\n",
    "    -------\n",
    "    list\n",
    "        List of feature columns\n",
    "    \n",
    "    \"\"\"\n",
    "    return [str(data_type[0]) + str(data[idx]) + str(calc) + str(trans) \n",
    "            for calc in gene_calcs_type \n",
    "            for trans in transformation_type]"
   ]
  },
  {
   "cell_type": "code",
   "execution_count": 3,
   "metadata": {},
   "outputs": [],
   "source": [
    "# gene pair calc columns (original cols: avg, abs(difference), max, min, sum)\n",
    "def genepair_calc_lst(lst):\n",
    "    \"\"\"\n",
    "    Generate gene pair calculation list.\n",
    "\n",
    "    Parameters\n",
    "    ----------\n",
    "    lst : list\n",
    "        List of gene pair calculations\n",
    "\n",
    "    Returns\n",
    "    -------\n",
    "    list\n",
    "        List of gene pair calculations\n",
    "    \n",
    "    \"\"\"\n",
    "    return [lst[2], lst[7], lst[12], lst[17], lst[22]]"
   ]
  },
  {
   "cell_type": "code",
   "execution_count": 4,
   "metadata": {},
   "outputs": [],
   "source": [
    "# calc average, max, min, and difference of two columns\n",
    "def calc_features(df, feature, col1, col2):\n",
    "    \"\"\"\n",
    "    Calculate average, max, min, and difference of two columns.\n",
    "\n",
    "    Parameters\n",
    "\n",
    "    df : DataFrame\n",
    "        DataFrame containing the data\n",
    "    feature : list\n",
    "        List of feature columns\n",
    "    col1 : str\n",
    "        Column 1 - specific protein property values for gene1\n",
    "    col2 : str\n",
    "        Column 2 - specific protein protery values for gene2\n",
    "\n",
    "    Returns\n",
    "    -------\n",
    "    DataFrame\n",
    "        DataFrame containing the data with calculated features\n",
    "    \n",
    "    \"\"\"\n",
    "    df[feature[0]] = (df[col1] + df[col2]) / 2\n",
    "    df[feature[1]] = np.abs(df[col1] - df[col2])\n",
    "    df[feature[2]] = np.maximum(df[col1], df[col2])\n",
    "    df[feature[3]] = np.minimum(df[col1], df[col2])\n",
    "    df[feature[4]] = (df[col1] + df[col2])\n",
    "    return df"
   ]
  },
  {
   "cell_type": "code",
   "execution_count": 5,
   "metadata": {},
   "outputs": [],
   "source": [
    "# Define a function to apply transformations\n",
    "def apply_transformations(df, column):\n",
    "    \"\"\"\n",
    "    Apply transformations to the data.\n",
    "\n",
    "    Parameters\n",
    "    ----------\n",
    "    df : DataFrame\n",
    "        DataFrame containing the data\n",
    "    column : str\n",
    "        Column to apply transformations to\n",
    "\n",
    "    Returns\n",
    "    -------\n",
    "    DataFrame\n",
    "        DataFrame containing the data with transformations applied\n",
    "    \n",
    "    \"\"\"\n",
    "    base_name = column.rpartition('_')[0]\n",
    "    # qcut is (] for each dataset (exclusive - left, inclusive - right)\n",
    "    df[f'{base_name}_binned'] = pd.qcut(df[column], 4, labels=False)\n",
    "    df[f'{base_name}_log'] = np.log10(df[column].replace(0, np.nan))\n",
    "    df[f'{base_name}_reciprocal'] = 1 / df[column].replace(0, np.nan)\n",
    "    df[f'{base_name}_squared'] = df[column] ** 2\n",
    "    return df"
   ]
  },
  {
   "cell_type": "code",
   "execution_count": 6,
   "metadata": {},
   "outputs": [],
   "source": [
    "def create_data_feat_df (df, calc_list, col1_name, col2_name, gene1dat_name, gene2dat_name, feature_list):\n",
    "    \"\"\"\n",
    "    Create data feature DataFrame.\n",
    "\n",
    "    Parameters\n",
    "    ----------\n",
    "    df : DataFrame\n",
    "        DataFrame containing the data\n",
    "    calc_list : list\n",
    "        List of gene pair calculations to be applied to the data\n",
    "    col1_name : str\n",
    "        Column 1 name\n",
    "    col2_name : str\n",
    "        Column 2 name\n",
    "    gene1dat_name : str\n",
    "        Gene 1 data name\n",
    "    gene2dat_name : str\n",
    "        Gene 2 data name\n",
    "    feature_list : list\n",
    "        List of feature columns\n",
    "\n",
    "    Returns\n",
    "    -------\n",
    "    DataFrame\n",
    "        DataFrame containing the data with features\n",
    "    \n",
    "    \"\"\"\n",
    "    df = calc_features(df, calc_list, gene1dat_name, gene2dat_name)\n",
    "    for feature in calc_list:\n",
    "        df = apply_transformations(df, feature)\n",
    "    df = df[[col1_name, col2_name]+feature_list]\n",
    "    return df"
   ]
  },
  {
   "cell_type": "markdown",
   "metadata": {},
   "source": [
    "CONTINUOUS 1: Amino Acid Length\n",
    "Average pair\n",
    "Difference (Absolute Value)\n",
    "Maximum of pair\n",
    "Minimum of pair\n",
    "Total of pair\n",
    "\n",
    "For each of these data representations they were transformed using: \n",
    "Bin (Quartiles) \n",
    "Log (Base 10)\n",
    "None\n",
    "Reciprocal\n",
    "Squared\n",
    "\n",
    "CONTINUOUS 2: Isoelectric Point\n",
    "Average pair\n",
    "Difference (Absolute Value)\n",
    "Maximum of pair\n",
    "Minimum of pair\n",
    "Total of pair\n",
    "\n",
    "For each of these data representations they were transformed using: \n",
    "Bin (Quartiles) \n",
    "Log (Base 10)\n",
    "None\n",
    "Reciprocal\n",
    "Squared"
   ]
  },
  {
   "cell_type": "code",
   "execution_count": 7,
   "metadata": {},
   "outputs": [],
   "source": [
    "# continuous data types\n",
    "dtype = ['continuous_']\n",
    "dat = ['AA_length', 'isoelectric_point']\n",
    "genepair_calcs = ['_average_', '_difference_', '_max_', '_min_', '_pair_total_']\n",
    "transformations = ['binned','log','noTF','reciprocal','squared']"
   ]
  },
  {
   "cell_type": "code",
   "execution_count": 8,
   "metadata": {},
   "outputs": [],
   "source": [
    "# Continuous AA length features - these are all the features that will be \n",
    "# produced using the aaLength.continuous.MLD_dictionary.json document\n",
    "aa_len_feat = generate_feature_cols(dtype, dat, 0, genepair_calcs, \n",
    "                                    transformations)\n",
    "\n",
    "# Continuous isoelectric point features - these are all the features that will  \n",
    "# be produced using the isoelectric_point_dictionary.json document\n",
    "iso_feat = generate_feature_cols(dtype, dat, 1, genepair_calcs, transformations)"
   ]
  },
  {
   "cell_type": "code",
   "execution_count": 9,
   "metadata": {},
   "outputs": [],
   "source": [
    "aa_len_calcs = genepair_calc_lst(aa_len_feat)\n",
    "iso_calcs = genepair_calc_lst(iso_feat)"
   ]
  },
  {
   "cell_type": "code",
   "execution_count": 10,
   "metadata": {},
   "outputs": [
    {
     "data": {
      "text/plain": [
       "['continuous_AA_length_average_noTF',\n",
       " 'continuous_AA_length_difference_noTF',\n",
       " 'continuous_AA_length_max_noTF',\n",
       " 'continuous_AA_length_min_noTF',\n",
       " 'continuous_AA_length_pair_total_noTF']"
      ]
     },
     "execution_count": 10,
     "metadata": {},
     "output_type": "execute_result"
    }
   ],
   "source": [
    "aa_len_calcs"
   ]
  },
  {
   "cell_type": "code",
   "execution_count": 11,
   "metadata": {},
   "outputs": [
    {
     "data": {
      "application/vnd.microsoft.datawrangler.viewer.v0+json": {
       "columns": [
        {
         "name": "index",
         "rawType": "int64",
         "type": "integer"
        },
        {
         "name": "Set",
         "rawType": "object",
         "type": "string"
        },
        {
         "name": "gene1",
         "rawType": "object",
         "type": "string"
        },
        {
         "name": "gene2",
         "rawType": "object",
         "type": "string"
        },
        {
         "name": "binary_DTB_p05",
         "rawType": "float64",
         "type": "float"
        },
        {
         "name": "binary_DTB_log10_p05",
         "rawType": "float64",
         "type": "float"
        },
        {
         "name": "binary_DTB_plog10_p05",
         "rawType": "float64",
         "type": "float"
        },
        {
         "name": "binary_LN_p05",
         "rawType": "float64",
         "type": "float"
        },
        {
         "name": "binary_LN_log10_p05",
         "rawType": "float64",
         "type": "float"
        },
        {
         "name": "binary_LN_plog10_p05",
         "rawType": "float64",
         "type": "float"
        },
        {
         "name": "binary_DTF_p05",
         "rawType": "float64",
         "type": "float"
        },
        {
         "name": "binary_DTF_log10_p05",
         "rawType": "float64",
         "type": "float"
        },
        {
         "name": "binary_DTF_plog10_p05",
         "rawType": "float64",
         "type": "float"
        },
        {
         "name": "binary_SN_p05",
         "rawType": "int64",
         "type": "integer"
        },
        {
         "name": "binary_SN_plus1_p05",
         "rawType": "int64",
         "type": "integer"
        },
        {
         "name": "binary_SN_plog10_p05",
         "rawType": "int64",
         "type": "integer"
        },
        {
         "name": "binary_SN_plus1_log10_p05",
         "rawType": "int64",
         "type": "integer"
        },
        {
         "name": "binary_SPF_p05",
         "rawType": "int64",
         "type": "integer"
        },
        {
         "name": "binary_SPF_log10_p05",
         "rawType": "int64",
         "type": "integer"
        },
        {
         "name": "binary_SPF_plog10_p05",
         "rawType": "int64",
         "type": "integer"
        },
        {
         "name": "binary_TSC_p05",
         "rawType": "int64",
         "type": "integer"
        },
        {
         "name": "binary_TSC_plus1_p05",
         "rawType": "int64",
         "type": "integer"
        },
        {
         "name": "binary_TSC_plog10_p05",
         "rawType": "int64",
         "type": "integer"
        },
        {
         "name": "binary_TSC_plus1_log10_p05",
         "rawType": "int64",
         "type": "integer"
        },
        {
         "name": "binary_combined_p05",
         "rawType": "int64",
         "type": "integer"
        },
        {
         "name": "binary_DTB_p1",
         "rawType": "float64",
         "type": "float"
        },
        {
         "name": "binary_DTB_log10_p1",
         "rawType": "float64",
         "type": "float"
        },
        {
         "name": "binary_DTB_plog10_p1",
         "rawType": "float64",
         "type": "float"
        },
        {
         "name": "binary_LN_p1",
         "rawType": "float64",
         "type": "float"
        },
        {
         "name": "binary_LN_log10_p1",
         "rawType": "float64",
         "type": "float"
        },
        {
         "name": "binary_LN_plog10_p1",
         "rawType": "float64",
         "type": "float"
        },
        {
         "name": "binary_DTF_p1",
         "rawType": "float64",
         "type": "float"
        },
        {
         "name": "binary_DTF_log10_p1",
         "rawType": "float64",
         "type": "float"
        },
        {
         "name": "binary_DTF_plog10_p1",
         "rawType": "float64",
         "type": "float"
        },
        {
         "name": "binary_SN_p1",
         "rawType": "int64",
         "type": "integer"
        },
        {
         "name": "binary_SN_plus1_p1",
         "rawType": "int64",
         "type": "integer"
        },
        {
         "name": "binary_SN_plog10_p1",
         "rawType": "int64",
         "type": "integer"
        },
        {
         "name": "binary_SN_plus1_log10_p1",
         "rawType": "int64",
         "type": "integer"
        },
        {
         "name": "binary_SPF_p1",
         "rawType": "int64",
         "type": "integer"
        },
        {
         "name": "binary_SPF_log10_p1",
         "rawType": "int64",
         "type": "integer"
        },
        {
         "name": "binary_SPF_plog10_p1",
         "rawType": "int64",
         "type": "integer"
        },
        {
         "name": "binary_TSC_p1",
         "rawType": "int64",
         "type": "integer"
        },
        {
         "name": "binary_TSC_plus1_p1",
         "rawType": "int64",
         "type": "integer"
        },
        {
         "name": "binary_TSC_plog10_p1",
         "rawType": "int64",
         "type": "integer"
        },
        {
         "name": "binary_TSC_plus1_log10_p1",
         "rawType": "int64",
         "type": "integer"
        },
        {
         "name": "binary_combined_p1",
         "rawType": "int64",
         "type": "integer"
        }
       ],
       "ref": "ae04c009-ce36-4ba8-819b-370082352762",
       "rows": [
        [
         "0",
         "1",
         "AT2G03450",
         "AT1G13900",
         "0.0",
         "0.0",
         "0.0",
         "0.0",
         "0.0",
         "0.0",
         null,
         null,
         null,
         "0",
         "0",
         "0",
         "0",
         "0",
         "0",
         "0",
         "0",
         "0",
         "0",
         "0",
         "0",
         "0.0",
         "0.0",
         "0.0",
         "0.0",
         "0.0",
         "0.0",
         null,
         null,
         null,
         "0",
         "0",
         "0",
         "0",
         "0",
         "0",
         "0",
         "0",
         "0",
         "0",
         "0",
         "0"
        ],
        [
         "1",
         "11",
         "AT2G21380",
         "AT4G39050",
         "0.0",
         "0.0",
         "0.0",
         "0.0",
         "0.0",
         "0.0",
         "0.0",
         "0.0",
         "0.0",
         "0",
         "0",
         "0",
         "0",
         "1",
         "1",
         "1",
         "0",
         "0",
         "0",
         "0",
         "1",
         "0.0",
         "0.0",
         "0.0",
         "0.0",
         "0.0",
         "0.0",
         "0.0",
         "0.0",
         "0.0",
         "0",
         "0",
         "0",
         "0",
         "1",
         "1",
         "1",
         "1",
         "1",
         "0",
         "0",
         "1"
        ],
        [
         "2",
         "110",
         "AT5G07830",
         "AT5G61250",
         "0.0",
         "0.0",
         "0.0",
         "0.0",
         "0.0",
         "0.0",
         "0.0",
         "0.0",
         "0.0",
         "0",
         "0",
         "0",
         "0",
         "0",
         "0",
         "0",
         "0",
         "0",
         "0",
         "0",
         "0",
         "0.0",
         "0.0",
         "0.0",
         "0.0",
         "0.0",
         "0.0",
         "0.0",
         "0.0",
         "0.0",
         "0",
         "0",
         "0",
         "0",
         "0",
         "0",
         "0",
         "0",
         "0",
         "1",
         "1",
         "1"
        ],
        [
         "3",
         "12",
         "AT5G16480",
         "AT3G02800",
         "1.0",
         "1.0",
         "1.0",
         "0.0",
         "0.0",
         "0.0",
         "1.0",
         "1.0",
         "1.0",
         "0",
         "0",
         "0",
         "0",
         "0",
         "0",
         "0",
         "0",
         "0",
         "0",
         "0",
         "1",
         "1.0",
         "1.0",
         "1.0",
         "0.0",
         "0.0",
         "0.0",
         "1.0",
         "1.0",
         "1.0",
         "0",
         "0",
         "0",
         "0",
         "0",
         "0",
         "0",
         "0",
         "0",
         "0",
         "0",
         "1"
        ],
        [
         "4",
         "122",
         "AT3G22790",
         "AT4G14760",
         "0.0",
         "0.0",
         "0.0",
         "0.0",
         "0.0",
         "0.0",
         "0.0",
         "0.0",
         "0.0",
         "0",
         "0",
         "0",
         "0",
         "0",
         "0",
         "0",
         "0",
         "0",
         "0",
         "0",
         "0",
         "0.0",
         "0.0",
         "0.0",
         "0.0",
         "0.0",
         "0.0",
         "0.0",
         "0.0",
         "0.0",
         "0",
         "0",
         "0",
         "0",
         "0",
         "0",
         "0",
         "0",
         "0",
         "0",
         "0",
         "0"
        ]
       ],
       "shape": {
        "columns": 45,
        "rows": 5
       }
      },
      "text/html": [
       "<div>\n",
       "<style scoped>\n",
       "    .dataframe tbody tr th:only-of-type {\n",
       "        vertical-align: middle;\n",
       "    }\n",
       "\n",
       "    .dataframe tbody tr th {\n",
       "        vertical-align: top;\n",
       "    }\n",
       "\n",
       "    .dataframe thead th {\n",
       "        text-align: right;\n",
       "    }\n",
       "</style>\n",
       "<table border=\"1\" class=\"dataframe\">\n",
       "  <thead>\n",
       "    <tr style=\"text-align: right;\">\n",
       "      <th></th>\n",
       "      <th>Set</th>\n",
       "      <th>gene1</th>\n",
       "      <th>gene2</th>\n",
       "      <th>binary_DTB_p05</th>\n",
       "      <th>binary_DTB_log10_p05</th>\n",
       "      <th>binary_DTB_plog10_p05</th>\n",
       "      <th>binary_LN_p05</th>\n",
       "      <th>binary_LN_log10_p05</th>\n",
       "      <th>binary_LN_plog10_p05</th>\n",
       "      <th>binary_DTF_p05</th>\n",
       "      <th>...</th>\n",
       "      <th>binary_SN_plog10_p1</th>\n",
       "      <th>binary_SN_plus1_log10_p1</th>\n",
       "      <th>binary_SPF_p1</th>\n",
       "      <th>binary_SPF_log10_p1</th>\n",
       "      <th>binary_SPF_plog10_p1</th>\n",
       "      <th>binary_TSC_p1</th>\n",
       "      <th>binary_TSC_plus1_p1</th>\n",
       "      <th>binary_TSC_plog10_p1</th>\n",
       "      <th>binary_TSC_plus1_log10_p1</th>\n",
       "      <th>binary_combined_p1</th>\n",
       "    </tr>\n",
       "  </thead>\n",
       "  <tbody>\n",
       "    <tr>\n",
       "      <th>0</th>\n",
       "      <td>1</td>\n",
       "      <td>AT2G03450</td>\n",
       "      <td>AT1G13900</td>\n",
       "      <td>0.0</td>\n",
       "      <td>0.0</td>\n",
       "      <td>0.0</td>\n",
       "      <td>0.0</td>\n",
       "      <td>0.0</td>\n",
       "      <td>0.0</td>\n",
       "      <td>NaN</td>\n",
       "      <td>...</td>\n",
       "      <td>0</td>\n",
       "      <td>0</td>\n",
       "      <td>0</td>\n",
       "      <td>0</td>\n",
       "      <td>0</td>\n",
       "      <td>0</td>\n",
       "      <td>0</td>\n",
       "      <td>0</td>\n",
       "      <td>0</td>\n",
       "      <td>0</td>\n",
       "    </tr>\n",
       "    <tr>\n",
       "      <th>1</th>\n",
       "      <td>11</td>\n",
       "      <td>AT2G21380</td>\n",
       "      <td>AT4G39050</td>\n",
       "      <td>0.0</td>\n",
       "      <td>0.0</td>\n",
       "      <td>0.0</td>\n",
       "      <td>0.0</td>\n",
       "      <td>0.0</td>\n",
       "      <td>0.0</td>\n",
       "      <td>0.0</td>\n",
       "      <td>...</td>\n",
       "      <td>0</td>\n",
       "      <td>0</td>\n",
       "      <td>1</td>\n",
       "      <td>1</td>\n",
       "      <td>1</td>\n",
       "      <td>1</td>\n",
       "      <td>1</td>\n",
       "      <td>0</td>\n",
       "      <td>0</td>\n",
       "      <td>1</td>\n",
       "    </tr>\n",
       "    <tr>\n",
       "      <th>2</th>\n",
       "      <td>110</td>\n",
       "      <td>AT5G07830</td>\n",
       "      <td>AT5G61250</td>\n",
       "      <td>0.0</td>\n",
       "      <td>0.0</td>\n",
       "      <td>0.0</td>\n",
       "      <td>0.0</td>\n",
       "      <td>0.0</td>\n",
       "      <td>0.0</td>\n",
       "      <td>0.0</td>\n",
       "      <td>...</td>\n",
       "      <td>0</td>\n",
       "      <td>0</td>\n",
       "      <td>0</td>\n",
       "      <td>0</td>\n",
       "      <td>0</td>\n",
       "      <td>0</td>\n",
       "      <td>0</td>\n",
       "      <td>1</td>\n",
       "      <td>1</td>\n",
       "      <td>1</td>\n",
       "    </tr>\n",
       "    <tr>\n",
       "      <th>3</th>\n",
       "      <td>12</td>\n",
       "      <td>AT5G16480</td>\n",
       "      <td>AT3G02800</td>\n",
       "      <td>1.0</td>\n",
       "      <td>1.0</td>\n",
       "      <td>1.0</td>\n",
       "      <td>0.0</td>\n",
       "      <td>0.0</td>\n",
       "      <td>0.0</td>\n",
       "      <td>1.0</td>\n",
       "      <td>...</td>\n",
       "      <td>0</td>\n",
       "      <td>0</td>\n",
       "      <td>0</td>\n",
       "      <td>0</td>\n",
       "      <td>0</td>\n",
       "      <td>0</td>\n",
       "      <td>0</td>\n",
       "      <td>0</td>\n",
       "      <td>0</td>\n",
       "      <td>1</td>\n",
       "    </tr>\n",
       "    <tr>\n",
       "      <th>4</th>\n",
       "      <td>122</td>\n",
       "      <td>AT3G22790</td>\n",
       "      <td>AT4G14760</td>\n",
       "      <td>0.0</td>\n",
       "      <td>0.0</td>\n",
       "      <td>0.0</td>\n",
       "      <td>0.0</td>\n",
       "      <td>0.0</td>\n",
       "      <td>0.0</td>\n",
       "      <td>0.0</td>\n",
       "      <td>...</td>\n",
       "      <td>0</td>\n",
       "      <td>0</td>\n",
       "      <td>0</td>\n",
       "      <td>0</td>\n",
       "      <td>0</td>\n",
       "      <td>0</td>\n",
       "      <td>0</td>\n",
       "      <td>0</td>\n",
       "      <td>0</td>\n",
       "      <td>0</td>\n",
       "    </tr>\n",
       "  </tbody>\n",
       "</table>\n",
       "<p>5 rows × 45 columns</p>\n",
       "</div>"
      ],
      "text/plain": [
       "   Set      gene1      gene2  binary_DTB_p05  binary_DTB_log10_p05  \\\n",
       "0    1  AT2G03450  AT1G13900             0.0                   0.0   \n",
       "1   11  AT2G21380  AT4G39050             0.0                   0.0   \n",
       "2  110  AT5G07830  AT5G61250             0.0                   0.0   \n",
       "3   12  AT5G16480  AT3G02800             1.0                   1.0   \n",
       "4  122  AT3G22790  AT4G14760             0.0                   0.0   \n",
       "\n",
       "   binary_DTB_plog10_p05  binary_LN_p05  binary_LN_log10_p05  \\\n",
       "0                    0.0            0.0                  0.0   \n",
       "1                    0.0            0.0                  0.0   \n",
       "2                    0.0            0.0                  0.0   \n",
       "3                    1.0            0.0                  0.0   \n",
       "4                    0.0            0.0                  0.0   \n",
       "\n",
       "   binary_LN_plog10_p05  binary_DTF_p05  ...  binary_SN_plog10_p1  \\\n",
       "0                   0.0             NaN  ...                    0   \n",
       "1                   0.0             0.0  ...                    0   \n",
       "2                   0.0             0.0  ...                    0   \n",
       "3                   0.0             1.0  ...                    0   \n",
       "4                   0.0             0.0  ...                    0   \n",
       "\n",
       "   binary_SN_plus1_log10_p1  binary_SPF_p1  binary_SPF_log10_p1  \\\n",
       "0                         0              0                    0   \n",
       "1                         0              1                    1   \n",
       "2                         0              0                    0   \n",
       "3                         0              0                    0   \n",
       "4                         0              0                    0   \n",
       "\n",
       "   binary_SPF_plog10_p1  binary_TSC_p1  binary_TSC_plus1_p1  \\\n",
       "0                     0              0                    0   \n",
       "1                     1              1                    1   \n",
       "2                     0              0                    0   \n",
       "3                     0              0                    0   \n",
       "4                     0              0                    0   \n",
       "\n",
       "   binary_TSC_plog10_p1  binary_TSC_plus1_log10_p1  binary_combined_p1  \n",
       "0                     0                          0                   0  \n",
       "1                     0                          0                   1  \n",
       "2                     1                          1                   1  \n",
       "3                     0                          0                   1  \n",
       "4                     0                          0                   0  \n",
       "\n",
       "[5 rows x 45 columns]"
      ]
     },
     "execution_count": 11,
     "metadata": {},
     "output_type": "execute_result"
    }
   ],
   "source": [
    "# folder with continuous protein properties\n",
    "data_dir = \"/home/brow1110/ara-kinase-prediction/protein_properties/\"\n",
    "data_dir = \"/home/seguraab/ara-kinase-prediction/data/2021_cusack_data/21_arabidopsis_redundancy/03_protein_sequence_properties\"\n",
    "\n",
    "# \"\"\" Kinase gene pairs \"\"\"\n",
    "# kinase_pairs = pd.read_csv(\n",
    "#     \"/home/seguraab/ara-kinase-prediction/data/instances_dataset_1.txt\", \n",
    "#     sep=\"\\t\")\n",
    "# kinase_pairs\n",
    "\n",
    "\"\"\" Dataset_4.txt from Cusack 2021, it contains the kinase gene pairs as well \"\"\"\n",
    "# instances = '/home/seguraab/ara-kinase-prediction/data/2021_cusack_data/Dataset_4.txt'\n",
    "instances = '/home/seguraab/ara-kinase-prediction/data/Kinase_genes/instances_tair10_kinases.txt'\n",
    "kinase_pairs = pd.read_csv(instances, delimiter='\\t', header=0)\n",
    "instances = '/home/seguraab/ara-kinase-prediction/data/20250403_melissa_ara_data/corrected_data/binary_labels_from_linear_model.csv'\n",
    "kinase_pairs = pd.read_csv(instances, header=0)\n",
    "# kinase_pairs = kinase_pairs[\"pair_ID\"].str.split(\"_\", expand=True)\n",
    "# kinase_pairs.columns = ['gene1', 'gene2']\n",
    "kinase_pairs.head()"
   ]
  },
  {
   "cell_type": "code",
   "execution_count": 12,
   "metadata": {},
   "outputs": [],
   "source": [
    "kinase_pairs_1 = list(kinase_pairs.loc[:, 'gene1'])\n",
    "kinase_pairs_2 = list(kinase_pairs.loc[:, 'gene2'])"
   ]
  },
  {
   "cell_type": "code",
   "execution_count": 13,
   "metadata": {},
   "outputs": [
    {
     "data": {
      "text/plain": [
       "(142, 142)"
      ]
     },
     "execution_count": 13,
     "metadata": {},
     "output_type": "execute_result"
    }
   ],
   "source": [
    "len(kinase_pairs_1), len(kinase_pairs_2)"
   ]
  },
  {
   "cell_type": "code",
   "execution_count": 14,
   "metadata": {},
   "outputs": [],
   "source": [
    "# Construct the file path\n",
    "file_aa_len_path = os.path.join(data_dir, \n",
    "                                \"AA_length/aaLength.continuous.MLD_dictionary.json\")\n",
    "\n",
    "# read in as a dictionary of AA length\n",
    "with open(file_aa_len_path, 'r') as f:\n",
    "    aa_len = json.load(f)"
   ]
  },
  {
   "cell_type": "code",
   "execution_count": 15,
   "metadata": {},
   "outputs": [],
   "source": [
    "# Construct the file path\n",
    "file_iso_path = os.path.join(data_dir, \"isoelectric_point/isoelectric_point_dictionary.json\")\n",
    "\n",
    "# read in as a dictionary of pI: \n",
    "with open(file_iso_path, 'r') as f:\n",
    "    iso = json.load(f)"
   ]
  },
  {
   "cell_type": "code",
   "execution_count": 16,
   "metadata": {},
   "outputs": [],
   "source": [
    "# in kinase_genes_1, use list to get ordered values from dictionary\n",
    "aa_len_1 = [aa_len.get(key) for key in kinase_pairs_1]\n",
    "aa_len_2 = [aa_len.get(key) for key in kinase_pairs_2]"
   ]
  },
  {
   "cell_type": "code",
   "execution_count": 17,
   "metadata": {},
   "outputs": [],
   "source": [
    "iso_1 = [iso.get(key) for key in kinase_pairs_1]\n",
    "iso_2 = [iso.get(key) for key in kinase_pairs_2]"
   ]
  },
  {
   "cell_type": "code",
   "execution_count": 18,
   "metadata": {},
   "outputs": [],
   "source": [
    "# add all the lists together as a df\n",
    "aa_len_df = pd.DataFrame({'gene1': kinase_pairs_1, 'gene2': kinase_pairs_2, \n",
    "                          'aa_len_1': aa_len_1, 'aa_len_2': aa_len_2})"
   ]
  },
  {
   "cell_type": "code",
   "execution_count": 19,
   "metadata": {},
   "outputs": [],
   "source": [
    "iso_df = pd.DataFrame({'gene1': kinase_pairs_1, 'gene2': kinase_pairs_2,\n",
    "                        'iso_1': iso_1, 'iso_2': iso_2})"
   ]
  },
  {
   "cell_type": "code",
   "execution_count": 20,
   "metadata": {},
   "outputs": [],
   "source": [
    "aa_len_df = create_data_feat_df(aa_len_df, aa_len_calcs, 'gene1', 'gene2', \n",
    "                                'aa_len_1', 'aa_len_2', aa_len_feat)"
   ]
  },
  {
   "cell_type": "code",
   "execution_count": 21,
   "metadata": {},
   "outputs": [],
   "source": [
    "iso_df = create_data_feat_df(iso_df, iso_calcs, 'gene1', 'gene2', \n",
    "                             'iso_1', 'iso_2', iso_feat)"
   ]
  },
  {
   "cell_type": "code",
   "execution_count": 22,
   "metadata": {},
   "outputs": [],
   "source": [
    "# output processed data to a csv\n",
    "# aa_len_df.to_csv(data_dir+\"aa_len_features.csv\", index=False)\n",
    "# aa_len_df.to_csv(\"/home/seguraab/ara-kinase-prediction/data/2021_cusack_data/Dataset_4_Features/Dataset_4_features_aa_len.txt\", sep=\"\\t\", index=False)\n",
    "# aa_len_df.to_csv(\"/home/seguraab/ara-kinase-prediction/data/Kinase_genes/features/TAIR10_kinases_features_aa_len.txt\", sep=\"\\t\", index=False)\n",
    "aa_len_df.to_csv(\"/home/seguraab/ara-kinase-prediction/data/Kinase_genes/features/20250403_melissa_ara_features_for_binary_clf_aa_len.txt\", sep='\\t', index=False)"
   ]
  },
  {
   "cell_type": "code",
   "execution_count": 23,
   "metadata": {},
   "outputs": [],
   "source": [
    "# output processed data to a csv\n",
    "# iso_df.to_csv(data_dir+\"iso_pt_features.csv\", index=False)\n",
    "# iso_df.to_csv(\"/home/seguraab/ara-kinase-prediction/data/2021_cusack_data/Dataset_4_Features/Dataset_4_features_iso_pt.txt\", sep=\"\\t\", index=False)\n",
    "# iso_df.to_csv(\"/home/seguraab/ara-kinase-prediction/data/Kinase_genes/features/TAIR10_kinases_features_iso_pt.txt\", sep=\"\\t\", index=False)\n",
    "iso_df.to_csv(\"/home/seguraab/ara-kinase-prediction/data/Kinase_genes/features/20250403_melissa_ara_features_for_binary_clf_iso_pt.txt\", sep='\\t', index=False)"
   ]
  }
 ],
 "metadata": {
  "kernelspec": {
   "display_name": "py310",
   "language": "python",
   "name": "python3"
  },
  "language_info": {
   "codemirror_mode": {
    "name": "ipython",
    "version": 3
   },
   "file_extension": ".py",
   "mimetype": "text/x-python",
   "name": "python",
   "nbconvert_exporter": "python",
   "pygments_lexer": "ipython3",
   "version": "3.10.14"
  }
 },
 "nbformat": 4,
 "nbformat_minor": 2
}
